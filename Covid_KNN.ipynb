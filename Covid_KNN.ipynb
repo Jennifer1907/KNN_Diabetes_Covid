{
 "cells": [
  {
   "cell_type": "code",
   "execution_count": 6,
   "id": "a1e2bbd1",
   "metadata": {},
   "outputs": [],
   "source": [
    "from sklearn.datasets import load_diabetes\n",
    "import matplotlib.pyplot as plt\n",
    "import numpy as np\n",
    "import math\n",
    "import pandas as pd\n",
    "from collections import Counter"
   ]
  },
  {
   "cell_type": "code",
   "execution_count": 18,
   "id": "49522f6f",
   "metadata": {},
   "outputs": [],
   "source": [
    "def euclidean_distance(x1, x2):\n",
    "    return np.sqrt(np.sum((x1 - x2) ** 2))\n",
    "\n",
    "def knn_predict_binary(X_train, y_train, X_test, k=3):\n",
    "    predictions = []\n",
    "    for point in X_test:\n",
    "        distances = []\n",
    "        k_nearest_labels = []\n",
    "        for train_point, label in zip(X_train, y_train):\n",
    "            distance = euclidean_distance(point, train_point)\n",
    "            distances.append((distance, label))\n",
    "        distances.sort(key=lambda x: x[0])\n",
    "        k_nearest_labels = [label for _, label in distances[:k]]\n",
    "        Counter_labels = Counter(k_nearest_labels)\n",
    "        predictions.append(str(Counter_labels.most_common(1)[0][0]))\n",
    "    return predictions"
   ]
  },
  {
   "cell_type": "code",
   "execution_count": 23,
   "id": "24009532",
   "metadata": {},
   "outputs": [
    {
     "name": "stdout",
     "output_type": "stream",
     "text": [
      "Predicted label: Flu\n"
     ]
    }
   ],
   "source": [
    "X_train = np.array([\n",
    "  [1 , 1 , 0 , 0] , # Cold\n",
    "  [1 , 1 , 1 , 0] , # Flu\n",
    "  [1 , 1 , 1 , 1] , # COVID -19\n",
    "  [0 , 0 , 0 , 0] , # Healthy\n",
    "  [0 , 1 , 0 , 0] , # Cold\n",
    "  [1 , 0 , 1 , 1] , # COVID -19\n",
    "  ])\n",
    "\n",
    "y_train = np.array([\"Cold\", \"Flu\", \"COVID-19 \", \"Healthy\", \"Cold\", \"COVID-19\"])\n",
    "x_test = np.array([[1 , 1 , 1 , 0]])\n",
    "print(\"Predicted label:\", \", \".join(map(str,knn_predict_binary(X_train, y_train, x_test, k =3))))\n"
   ]
  }
 ],
 "metadata": {
  "kernelspec": {
   "display_name": "Python 3",
   "language": "python",
   "name": "python3"
  },
  "language_info": {
   "codemirror_mode": {
    "name": "ipython",
    "version": 3
   },
   "file_extension": ".py",
   "mimetype": "text/x-python",
   "name": "python",
   "nbconvert_exporter": "python",
   "pygments_lexer": "ipython3",
   "version": "3.11.9"
  }
 },
 "nbformat": 4,
 "nbformat_minor": 5
}
