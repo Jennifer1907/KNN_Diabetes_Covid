{
 "cells": [
  {
   "cell_type": "code",
   "execution_count": 2,
   "id": "9560c83d",
   "metadata": {},
   "outputs": [],
   "source": [
    "from sklearn.datasets import load_diabetes\n",
    "import matplotlib.pyplot as plt\n",
    "import numpy as np\n",
    "import math\n",
    "import pandas as pd"
   ]
  },
  {
   "cell_type": "markdown",
   "id": "0b5958c7",
   "metadata": {},
   "source": [
    "# Euclidean/ Manhattan Distance/ Cosine Similarity/ Distance/ Minkowski Distance"
   ]
  },
  {
   "cell_type": "code",
   "execution_count": 3,
   "id": "73f3085f",
   "metadata": {},
   "outputs": [],
   "source": [
    "def euclidean_distance(x1, x2):\n",
    "    return np.sqrt(np.sum((x1 - x2) ** 2))\n",
    "\n",
    "def manhattan_distance(x1, x2):\n",
    "    return np.sum(np.abs(x1 - x2))\n",
    "\n",
    "def cosine_similarity(x1, x2):\n",
    "    return np.dot(x1, x2) / (np.linalg.norm(x1) * np.linalg.norm(x2))\n",
    "\n",
    "def chebyshev_distance(x1, x2):\n",
    "    return np.max(np.abs(x1 - x2))"
   ]
  },
  {
   "cell_type": "code",
   "execution_count": 4,
   "id": "bf49e488",
   "metadata": {},
   "outputs": [
    {
     "name": "stdout",
     "output_type": "stream",
     "text": [
      "Exercise 1: \n",
      "Euclidean distance: 5.0\n",
      "Manhattan distance: 7\n",
      "\n",
      "\n",
      "Exercise 2: \n",
      "Cosine Similarity: 0.9999999999999998\n",
      "Cosine Distance: 2.220446049250313e-16\n",
      "\n",
      "\n",
      "Exercise 3: \n",
      "Euclidean_distance: 4.123105625617661\n",
      "Manhattan_distance: 7\n",
      "Chebyshev_distance: 3\n"
     ]
    }
   ],
   "source": [
    "# Exercise 1:\n",
    "print(\"Exercise 1: \")\n",
    "x = np.array([3,4])\n",
    "y = np.array([0,0])\n",
    "print(\"Euclidean distance:\", euclidean_distance(x, y))\n",
    "print(\"Manhattan distance:\", manhattan_distance(x, y))\n",
    "\n",
    "print(\"\\n\")\n",
    "# Exercise 2:\n",
    "print(\"Exercise 2: \")\n",
    "x = np.array([1, 2])\n",
    "y = np.array([2, 4])\n",
    "print(\"Cosine Similarity:\", cosine_similarity(x, y))\n",
    "print(\"Cosine Distance:\", 1 - cosine_similarity(x, y))\n",
    "\n",
    "print(\"\\n\")\n",
    "# Exercise 3: \n",
    "print(\"Exercise 3: \")\n",
    "x = np.array([5, 8, 2])\n",
    "y = np.array([3, 5, 4])\n",
    "print(\"Euclidean_distance:\", euclidean_distance(x, y))\n",
    "print(\"Manhattan_distance:\", manhattan_distance(x, y))\n",
    "print(\"Chebyshev_distance:\", chebyshev_distance(x, y))"
   ]
  },
  {
   "cell_type": "markdown",
   "id": "58373a47",
   "metadata": {},
   "source": [
    "# K-nearest Neighbor"
   ]
  },
  {
   "cell_type": "code",
   "execution_count": 5,
   "id": "870d56e0",
   "metadata": {},
   "outputs": [],
   "source": [
    "def compute_Knearest_neighbors(distances, k):\n",
    "    distances.sort(key=lambda x: x[0])\n",
    "    lables = [dist[1] for dist in distances[:k]]\n",
    "    return lables\n",
    "\n",
    "def vote_distance(lables):\n",
    "    labels_count = {}\n",
    "    for lable in lables:\n",
    "        if lable in labels_count:\n",
    "            labels_count[lable] += 1\n",
    "        else:\n",
    "            labels_count[lable] = 1\n",
    "    return max(labels_count, key=labels_count.get)\n",
    "\n",
    "    "
   ]
  },
  {
   "cell_type": "code",
   "execution_count": 6,
   "id": "2780ef59",
   "metadata": {},
   "outputs": [
    {
     "name": "stdout",
     "output_type": "stream",
     "text": [
      "Distance from [2 2] to A: 1.0\n",
      "Distance from [2 2] to B: 2.24\n",
      "Distance from [2 2] to C: 5.0\n",
      "Distance from [2 2] to D: 7.81\n",
      "Label of P(2,2) with K-nearest neighbors = 3: 0\n",
      "Label of P(2,2) with K-nearest neighbors = 1: 0\n"
     ]
    }
   ],
   "source": [
    "df = [\n",
    "    {\"A\": [1, 2], \"label\": 0},\n",
    "    {\"B\": [3, 4], \"label\": 0},\n",
    "    {\"C\": [5, 6], \"label\": 1},\n",
    "    {\"D\": [7, 8], \"label\": 1}]\n",
    "P = np.array([2, 2])\n",
    "\n",
    "distances = []\n",
    "for item in df:\n",
    "    for key, value in item.items():\n",
    "        if key != \"label\":\n",
    "            distance = round(float(euclidean_distance(P, value)), 2)\n",
    "            distances.append((distance, item[\"label\"], key))\n",
    "            print(f\"Distance from {P} to {key}: {distance}\")\n",
    "\n",
    "print(\"Label of P(2,2) with K-nearest neighbors = 3:\", vote_distance(compute_Knearest_neighbors(distances, 3)))\n",
    "print(\"Label of P(2,2) with K-nearest neighbors = 1:\", vote_distance(compute_Knearest_neighbors(distances, 1)))\n"
   ]
  },
  {
   "cell_type": "markdown",
   "id": "1226d3a8",
   "metadata": {},
   "source": [
    "# K-nearest neighbors in 3D"
   ]
  },
  {
   "cell_type": "code",
   "execution_count": 7,
   "id": "396a40ac",
   "metadata": {},
   "outputs": [
    {
     "name": "stdout",
     "output_type": "stream",
     "text": [
      "Euclidean distance: 5.385164807134504\n"
     ]
    }
   ],
   "source": [
    "x = np.array([2, 1, 4])\n",
    "y = np.array([5, 3, 0])\n",
    "print(\"Euclidean distance:\", euclidean_distance(x, y))"
   ]
  },
  {
   "cell_type": "code",
   "execution_count": 8,
   "id": "ef022d32",
   "metadata": {},
   "outputs": [],
   "source": [
    "data = load_diabetes ()"
   ]
  },
  {
   "cell_type": "markdown",
   "id": "aecb7622",
   "metadata": {},
   "source": [
    "# Impact of K on result"
   ]
  },
  {
   "cell_type": "code",
   "execution_count": 9,
   "id": "baefe887",
   "metadata": {},
   "outputs": [],
   "source": [
    "data = [\n",
    "    {\"point\": np.array([1, 2]), \"label\": \"A\"},\n",
    "    {\"point\": np.array([2, 3]), \"label\": \"A\"},\n",
    "    {\"point\": np.array([3, 1]), \"label\": \"A\"},\n",
    "    {\"point\": np.array([1, 4]), \"label\": \"A\"},\n",
    "    {\"point\": np.array([2, 2]), \"label\": \"A\"},\n",
    "    {\"point\": np.array([6, 5]), \"label\": \"B\"},\n",
    "    {\"point\": np.array([7, 6]), \"label\": \"B\"},\n",
    "    {\"point\": np.array([8, 5]), \"label\": \"B\"},\n",
    "    {\"point\": np.array([7, 7]), \"label\": \"B\"},\n",
    "]"
   ]
  },
  {
   "cell_type": "code",
   "execution_count": 10,
   "id": "92d8c8f0",
   "metadata": {},
   "outputs": [
    {
     "name": "stdout",
     "output_type": "stream",
     "text": [
      "Label of P(2,2) with K-nearest neighbors = 1 : A\n",
      "Label of P(2,2) with K-nearest neighbors = 2 : A\n",
      "Label of P(2,2) with K-nearest neighbors = 3 : A\n",
      "Label of P(2,2) with K-nearest neighbors = 4 : A\n",
      "Label of P(2,2) with K-nearest neighbors = 5 : A\n",
      "Label of P(2,2) with K-nearest neighbors = 6 : A\n",
      "Label of P(2,2) with K-nearest neighbors = 7 : A\n",
      "Label of P(2,2) with K-nearest neighbors = 8 : A\n",
      "Label of P(2,2) with K-nearest neighbors = 9 : A\n"
     ]
    }
   ],
   "source": [
    "for k in range(1,10):\n",
    "    distances = []\n",
    "    for item in data:\n",
    "        distance = round(float(euclidean_distance(P, item[\"point\"])), 2)\n",
    "        distances.append((distance, item[\"label\"]))\n",
    "        \n",
    "    print(\"Label of P(2,2) with K-nearest neighbors =\", k, \":\", vote_distance(compute_Knearest_neighbors(distances, k)))"
   ]
  },
  {
   "cell_type": "markdown",
   "id": "cd593dec",
   "metadata": {},
   "source": [
    "# KNN Binary Classification"
   ]
  },
  {
   "cell_type": "code",
   "execution_count": 21,
   "id": "a869d986",
   "metadata": {},
   "outputs": [
    {
     "name": "stdout",
     "output_type": "stream",
     "text": [
      "Predicted label: 0, 0\n"
     ]
    }
   ],
   "source": [
    "import math\n",
    "from collections import Counter\n",
    "\n",
    "def euclidean_distance(x1, x2):\n",
    "    return np.sqrt(np.sum((x1 - x2) ** 2))\n",
    "\n",
    "def knn_predict_binary(X_train, y_train, X_test, k=3):\n",
    "    predictions = []\n",
    "    for point in X_test:\n",
    "        distances = []\n",
    "        k_nearest_labels = []\n",
    "        for train_point, label in zip(X_train, y_train):\n",
    "            distance = euclidean_distance(point, train_point)\n",
    "            distances.append((distance, label))\n",
    "        distances.sort(key=lambda x: x[0])\n",
    "        k_nearest_labels = [label for _, label in distances[:k]]\n",
    "        Counter_labels = Counter(k_nearest_labels)\n",
    "        predictions.append(int(Counter_labels.most_common(1)[0][0]))\n",
    "    return predictions\n",
    "\n",
    "X_train = np.array([[1 , 2] , [2 , 3] , [3 , 1] , [6 , 5]])\n",
    "y_train = np.array([0, 0, 0, 1])\n",
    "X_test = np.array([[2, 2],[2, 2]])\n",
    "print(\"Predicted label:\", \", \".join(map(str,knn_predict_binary(X_train, y_train, X_test, k=3))  ))"
   ]
  },
  {
   "cell_type": "markdown",
   "id": "53bd0646",
   "metadata": {},
   "source": [
    "# KNN Regression"
   ]
  },
  {
   "cell_type": "code",
   "execution_count": 12,
   "id": "7a79c4c9",
   "metadata": {},
   "outputs": [],
   "source": [
    "def knn_regression(X_train, y_train, x_test, k=3):\n",
    "    predictions = []\n",
    "    for point in x_test:\n",
    "        distances = []\n",
    "        for train_point, label in zip(X_train, y_train):\n",
    "            distance = euclidean_distance(point, train_point)\n",
    "            distances.append((distance, label))\n",
    "            distances.sort(key=lambda x: x[0])\n",
    "        k_nearest_labels = [label for _, label in distances[:k]]\n",
    "        prediction = np.mean(k_nearest_labels)\n",
    "        predictions.append(float(prediction))\n",
    "    return predictions"
   ]
  },
  {
   "cell_type": "code",
   "execution_count": 13,
   "id": "e7943099",
   "metadata": {},
   "outputs": [
    {
     "name": "stdout",
     "output_type": "stream",
     "text": [
      "Predicted price: [1.75, 1.25]\n"
     ]
    }
   ],
   "source": [
    "X_train = np.array([[100], [150], [200], [250], [300]])\n",
    "y_train = np.array([1.0, 1.5, 2.0, 2.5, 3.0])\n",
    "x_test = np.array([[200], [150]])\n",
    "print(\"Predicted price:\", knn_regression(X_train , y_train , x_test , k=2))"
   ]
  },
  {
   "cell_type": "markdown",
   "id": "fca0824f",
   "metadata": {},
   "source": [
    "# Weighted Voting"
   ]
  },
  {
   "cell_type": "code",
   "execution_count": 14,
   "id": "52f86328",
   "metadata": {},
   "outputs": [],
   "source": [
    "def knn_weighted (X_train , y_train , x_test , k =3):\n",
    "    predictions = []\n",
    "    for point in x_test:\n",
    "        distances = []\n",
    "        for train_point, label in zip(X_train , y_train):\n",
    "            distance = euclidean_distance(x_test , train_point)\n",
    "            if distance == 0:\n",
    "                weight = float('inf')\n",
    "            else:\n",
    "                weight = 1 / distance\n",
    "            distances.append((distance , weight, label))\n",
    "        distances.sort(key=lambda x: x[0])\n",
    "        k_nearest = distances[:k]\n",
    "\n",
    "        votes = {}\n",
    "        for _, weight, label in k_nearest:\n",
    "            if label in votes:\n",
    "                votes[label] += weight\n",
    "            else:\n",
    "                votes[label] = weight\n",
    "        prediction = max(votes, key=votes.get)\n",
    "        predictions.append(int(prediction))\n",
    "    return predictions"
   ]
  },
  {
   "cell_type": "code",
   "execution_count": 15,
   "id": "5764a77b",
   "metadata": {},
   "outputs": [
    {
     "name": "stdout",
     "output_type": "stream",
     "text": [
      "Predicted label:  [0, 0]\n"
     ]
    }
   ],
   "source": [
    "X_train = np.array([[1 , 2] , [2 , 3] , [3 , 1] , [6 , 5]])\n",
    "y_train = np.array([0, 0, 0, 1])\n",
    "x_test = np.array([[2, 2], [2,2]])\n",
    "print(\"Predicted label: \", knn_weighted(X_train, y_train, x_test, k=3)) "
   ]
  }
 ],
 "metadata": {
  "kernelspec": {
   "display_name": "Python 3",
   "language": "python",
   "name": "python3"
  },
  "language_info": {
   "codemirror_mode": {
    "name": "ipython",
    "version": 3
   },
   "file_extension": ".py",
   "mimetype": "text/x-python",
   "name": "python",
   "nbconvert_exporter": "python",
   "pygments_lexer": "ipython3",
   "version": "3.11.9"
  }
 },
 "nbformat": 4,
 "nbformat_minor": 5
}
